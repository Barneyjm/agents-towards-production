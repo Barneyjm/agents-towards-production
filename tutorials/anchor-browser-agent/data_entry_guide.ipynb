{
 "cells": [
  {
   "cell_type": "markdown",
   "metadata": {},
   "source": [
    "![](https://europe-west1-atp-views-tracker.cloudfunctions.net/working-analytics?notebook=tutorials--anchor-browser-agent--anchor_browser_data_entry_guide)\n",
    "\n",
    "# Anchor Browser Agent Guide: Automated Form Submission and Data Entry\n",
    "\n",
    "A comprehensive guide for implementing intelligent form automation using Anchor Browser Agent, enabling AI systems to complete complex web forms with human-like accuracy and contextual understanding.\n"
   ]
  },
  {
   "cell_type": "markdown",
   "metadata": {},
   "source": [
    " ## Introduction\n",
    " \n",
    " Automating form submission is a common but complex task, especially for multi-step forms with dynamic fields and conditional logic. Traditional tools often fall short when forms require contextual understanding and adaptability.\n",
    " \n",
    " Anchor Browser Agent solves these challenges by combining cloud-based browser automation with AI that understands both the source data and the form structure. This allows AI agents to extract information from documents and complete web forms intelligently, as shown in our charity donation example.\n",
    " \n",
    " ### Business Impact\n",
    " \n",
    " Automated form submission with AI enables:\n",
    " - High-volume, error-free data entry\n",
    " - Integration with systems lacking APIs\n",
    " - Scalable workflows without extra human resources\n",
    " - Consistent data formatting and validation\n",
    " \n",
    " These benefits are valuable for onboarding, application processing, data migration, and any workflow requiring web-based data transfer."
   ]
  },
  {
   "cell_type": "markdown",
   "metadata": {},
   "source": [
    " ## Why Use Anchor for Form Automation?\n",
    "\n",
    " - **No Local Setup:** Run form automation in the cloud - no browser installs or infrastructure headaches.\n",
    " - **AI-Driven:** Built-in AI agents understand form fields and context, so you don’t need to manually map every field.\n",
    " - **Handles Real-World Forms:** Supports authentication, multi-step forms, and session management out of the box.\n",
    " - **Works Anywhere:** Use proxies for region-specific forms and compliance.\n",
    " - **Audit-Ready:** Automatic session recording for debugging and compliance."
   ]
  },
  {
   "cell_type": "markdown",
   "metadata": {},
   "source": [
    "## Architecture Overview: Form Automation Workflow\n",
    "\n",
    "<img src=\"./assets/data-entry-diagram.png\" alt=\"Form Automation Architecture\" width=\"600\"/>\n",
    "\n"
   ]
  },
  {
   "cell_type": "markdown",
   "metadata": {},
   "source": [
    "## System Requirements and Development Environment\n",
    "Python 3.11 or higher provides the optimal foundation for Anchor Browser Agent integration:\n"
   ]
  },
  {
   "cell_type": "markdown",
   "metadata": {},
   "source": [
    "## Getting Started: Account Setup and Authentication\n",
    "\n",
    "Establishing your Anchor Browser Agent integration requires proper account configuration and credential management.\n",
    "\n",
    "### Account Creation and Service Tiers\n",
    "\n",
    "Navigate to [anchorbrowser.io](https://anchorbrowser.io?utm_source=agents-towards-production) to create your account. The platform offers multiple service tiers designed to accommodate different automation volumes and complexity requirements.\n",
    "\n",
    "<img src=\"./assets/signup.png\" alt=\"Account Registration Process\" width=\"300\"/>\n",
    "\n",
    "The free tier provides sufficient capabilities for development, testing, and proof-of-concept form automation workflows. Production deployments may require higher tiers depending on volume and advanced feature requirements.\n",
    "\n",
    "### API Key Generation and Management\n",
    "\n",
    "Access the [API Access Page](https://app.anchorbrowser.io/api-access?utm_source=agents-towards-production) to generate your authentication credentials. These keys provide access to all Anchor platform capabilities and should be managed according to enterprise security standards.\n",
    "\n",
    "<img src=\"./assets/dashboard.png\" alt=\"API Credential Management\" width=\"500\"/>\n",
    "\n",
    "### Production Security Practices\n",
    "\n",
    "When implementing form automation in production environments:\n",
    "- Use environment-based credential management systems\n",
    "- Implement credential rotation policies for long-running systems\n",
    "- Monitor API usage patterns to detect anomalous activity\n",
    "- Segregate credentials by environment (development, staging, production)\n",
    "- Implement least-privilege access principles for different automation workflows\n",
    "\n",
    "### Dependency Installation and Configuration\n",
    "\n",
    "Form automation requires specific Python packages that provide browser control and AI integration capabilities."
   ]
  },
  {
   "cell_type": "markdown",
   "metadata": {},
   "source": [
    "## Dependency Installation for Form Automation\n",
    "\n",
    "Install the required packages for comprehensive form automation capabilities:"
   ]
  },
  {
   "cell_type": "code",
   "execution_count": null,
   "metadata": {},
   "outputs": [],
   "source": [
    "# Install core dependencies for form automation\n",
    "# playwright: Provides comprehensive browser automation and form interaction capabilities\n",
    "# requests: HTTP client for Anchor API communication and session management\n",
    "!pip3 install playwright requests"
   ]
  },
  {
   "cell_type": "markdown",
   "metadata": {},
   "source": [
    "### Understanding the Form Automation Stack\n",
    "\n",
    "**Playwright** serves as the foundation for sophisticated form interactions:\n",
    "- Provides precise form field targeting and data entry capabilities\n",
    "- Handles complex form validation and error recovery scenarios\n",
    "- Supports dynamic form elements and JavaScript-driven interactions\n",
    "- Offers comprehensive event handling for form submission workflows\n",
    "\n",
    "**Requests** manages the broader automation workflow:\n",
    "- Session creation and configuration for form automation contexts\n",
    "- Authentication and credential management for protected forms\n",
    "- Session lifecycle management to optimize resource utilization\n",
    "\n",
    "This combination provides both high-level workflow management and low-level form interaction precision, enabling robust automation of even the most complex form scenarios."
   ]
  },
  {
   "cell_type": "markdown",
   "metadata": {},
   "source": [
    "## Use Case: Intelligent Resume-to-Form Data Transfer\n",
    "\n",
    "This implementation demonstrates a sophisticated form automation scenario where an AI agent must extract information from an unstructured document and intelligently populate a web form. This use case showcases Anchor's ability to handle complex data interpretation and contextual form completion.\n",
    "\n",
    "### Understanding the Automation Challenge\n",
    "\n",
    "Our example involves an AI agent that must:\n",
    "1. **Document Analysis**: Read and understand a personal resume with unstructured formatting\n",
    "2. **Information Extraction**: Identify relevant personal and contact information\n",
    "3. **Context Understanding**: Determine which extracted data is appropriate for form fields\n",
    "4. **Form Navigation**: Navigate to and interact with a charity donation form\n",
    "5. **Intelligent Completion**: Populate form fields based on contextual understanding\n",
    "6. **Validation Handling**: Respond to form validation and complete the submission process\n",
    "\n",
    "### Business Application Scenarios\n",
    "\n",
    "This type of automation enables:\n",
    "- **Customer Onboarding**: Automatically populate application forms from submitted documents\n",
    "- **Data Migration**: Transfer information between systems with different data formats\n",
    "- **Compliance Processing**: Complete regulatory forms using data from internal systems\n",
    "- **Lead Processing**: Convert prospect information into structured CRM entries\n",
    "\n",
    "### Target Form Overview\n",
    "\n",
    "Our demonstration uses a charity donation form that requires personal information, contact details, and donation preferences:\n",
    "\n",
    "<video autoPlay muted loop playsInline src=\"./assets/vid.mp4\" alt=\"Charity Form Automation Process\" width=\"800\"/>\n",
    "\n",
    "This form represents typical challenges in web form automation:\n",
    "- Multiple field types (text, email, dropdown, checkbox)\n",
    "- Client-side validation requirements\n",
    "- Conditional fields based on user selections\n",
    "- Required field validation and error handling"
   ]
  },
  {
   "cell_type": "markdown",
   "metadata": {},
   "source": [
    "## Implementation: Session Creation for Form Automation\n",
    "\n",
    "Creating an optimally configured browser session is crucial for reliable form automation. Session parameters directly impact form interaction success rates and automation reliability."
   ]
  },
  {
   "cell_type": "code",
   "execution_count": null,
   "metadata": {},
   "outputs": [],
   "source": [
    "import requests\n",
    "import json\n",
    "\n",
    "# Configure browser session for form automation workflows\n",
    "url = \"https://api.anchorbrowser.io/v1/sessions\"\n",
    "\n",
    "# Session configuration optimized for form completion tasks\n",
    "payload = {\n",
    "    \"session\": {\n",
    "        # Timeout configuration balanced for form completion workflows\n",
    "        \"timeout\": {\n",
    "            \"max_duration\": 4,  # Allow sufficient time for multi-page forms\n",
    "            \"idle_timeout\": 2   # Quick cleanup after form completion\n",
    "        },\n",
    "        # Enable recording for debugging and compliance\n",
    "        \"recording\": {\n",
    "            \"active\": True,    # Record session for debugging purposes, Default is True\n",
    "        }\n",
    "    },\n",
    "    # Browser configuration for optimal form rendering\n",
    "    \"browser\": {\n",
    "        \"viewport\": {\n",
    "            \"width\": 1920,   # Ensure form elements are fully visible\n",
    "            \"height\": 1080   # Accommodate complex form layouts\n",
    "        }\n",
    "    }\n",
    "}\n",
    "\n",
    "# Authentication headers for API access\n",
    "headers = {\n",
    "    \"anchor-api-key\": \"<ANCHOR-API-KEY>\",  # Replace with your actual API key\n",
    "    \"Content-Type\": \"application/json\"\n",
    "}\n",
    "\n",
    "# Create browser session for form automation\n",
    "response = requests.post(url, json=payload, headers=headers)\n",
    "\n",
    "# Parse response and extract session connection details\n",
    "session_data = response.json()\n",
    "print(\"Form automation session created:\")\n",
    "print(json.dumps(session_data, indent=2))\n",
    "\n",
    "# Extract Chrome DevTools Protocol URL for browser connection\n",
    "connection_string = session_data['data']['cdp_url']\n",
    "session_id = session_data['data']['id']\n",
    "\n",
    "print(f\"\\nSession ID: {session_id}\")\n",
    "print(f\"Connection URL: {connection_string[:50]}...\")\n",
    "\n",
    "# Display live view URL for real-time monitoring\n",
    "if 'live_view_url' in session_data['data']:\n",
    "    print(f\"Live View: {session_data['data']['live_view_url']}\")"
   ]
  },
  {
   "cell_type": "markdown",
   "metadata": {},
   "source": [
    "### Understanding Session Configuration for Forms\n",
    "\n",
    "**Timeout Strategy for Form Workflows**: Form automation requires different timeout considerations than data collection. The `max_duration` allows sufficient time for multi-page forms and user interface delays, while `idle_timeout` ensures efficient cleanup after form completion.\n",
    "\n",
    "**Viewport Optimization for Forms**: Form elements can be sensitive to viewport size, with some forms adjusting their layout or hiding elements on smaller screens. The 1920x1080 configuration ensures consistent form rendering across different websites.\n",
    "\n",
    "**Recording for Form Compliance**: Form automation often involves sensitive data and compliance requirements. Session recordings provide audit trails showing exactly how forms were completed, which can be crucial for regulatory compliance and error diagnosis.\n",
    "\n",
    "**Live View Monitoring**: The live view URL allows real-time observation of form completion processes, which is particularly valuable during development and when debugging complex form interactions."
   ]
  },
  {
   "cell_type": "markdown",
   "metadata": {},
   "source": [
    "## Implementation: AI-Powered Form Completion\n",
    "\n",
    "This implementation demonstrates Anchor's advanced AI task completion capabilities, where the system can understand both source documents and target forms to perform intelligent data transfer."
   ]
  },
  {
   "cell_type": "code",
   "execution_count": null,
   "metadata": {},
   "outputs": [],
   "source": [
    "import os\n",
    "import json\n",
    "from playwright.async_api import async_playwright\n",
    "\n",
    "# Execute comprehensive form automation workflow\n",
    "async with async_playwright() as playwright:\n",
    "    # Connect to cloud browser instance via Chrome DevTools Protocol\n",
    "    browser = await playwright.chromium.connect_over_cdp(connection_string)\n",
    "    \n",
    "    # Access the browser context containing Anchor's AI capabilities\n",
    "    context = browser.contexts[0]\n",
    "    \n",
    "    # Locate Anchor's built-in AI agent for intelligent task execution\n",
    "    ai_agent_url = \"chrome-extension://bppehibnhionalpjigdjdilknbljaeai/background.js\"\n",
    "    ai_agent = next((sw for sw in context.service_workers if sw.url == ai_agent_url), None)\n",
    "    \n",
    "    if not ai_agent:\n",
    "        raise Exception(\"AI agent not found in browser context\")\n",
    "    \n",
    "    # Get the active page for navigation\n",
    "    page = context.pages[0] if context.pages else await context.new_page()\n",
    "    \n",
    "    # Navigate to source document (resume) for data extraction\n",
    "    print(\"Navigating to source document for data extraction...\")\n",
    "    resume_url = 'https://www.wix.com/demone2/nicol-rider'\n",
    "    await page.goto(resume_url)\n",
    "    \n",
    "    print(\"Document loaded, initiating AI-powered form completion...\")\n",
    "    \n",
    "    # Configure comprehensive AI task for form automation\n",
    "    task_configuration = {\n",
    "        # Natural language instruction for complex multi-step task\n",
    "        \"prompt\": (\n",
    "            \"Read the resume on this page, understand the personal details, \"\n",
    "            \"and complete the form at https://formspree.io/library/donation/charity-donation-form/preview.html \"\n",
    "            \"as if you were this person. Use appropriate information from the resume \"\n",
    "            \"to fill out personal details. Limit the donation amount to $10.\"\n",
    "        ),\n",
    "        \n",
    "        # AI model configuration for optimal form understanding\n",
    "        \"provider\": \"openai\",\n",
    "        \"model\": \"gpt-4\",\n",
    "        \n",
    "        # Enable visual feedback for debugging and monitoring\n",
    "        \"highlight_elements\": True\n",
    "    }\n",
    "    \n",
    "    print(\"AI agent analyzing document and preparing form completion...\")\n",
    "    \n",
    "    # Execute the comprehensive automation task\n",
    "    # The AI will:\n",
    "    # 1. Analyze the resume content and extract relevant personal information\n",
    "    # 2. Navigate to the specified form URL\n",
    "    # 3. Understand the form structure and required fields\n",
    "    # 4. Map extracted data to appropriate form fields\n",
    "    # 5. Complete and submit the form with validation handling\n",
    "    result = await ai_agent.evaluate(json.dumps(task_configuration))\n",
    "    \n",
    "    print(\"\\nForm automation completed successfully!\")\n",
    "    print(f\"AI Agent Result: {result}\")\n",
    "    \n",
    "    # The result contains details about the completed automation task\n",
    "    # including success status, any errors encountered, and confirmation details"
   ]
  }
 ],
 "metadata": {
  "kernelspec": {
   "display_name": "Python 3 (ipykernel)",
   "language": "python",
   "name": "python3"
  },
  "language_info": {
   "codemirror_mode": {
    "name": "ipython",
    "version": 3
   },
   "file_extension": ".py",
   "mimetype": "text/x-python",
   "name": "python",
   "nbconvert_exporter": "python",
   "pygments_lexer": "ipython3",
   "version": "3.13.5"
  }
 },
 "nbformat": 4,
 "nbformat_minor": 4
}
