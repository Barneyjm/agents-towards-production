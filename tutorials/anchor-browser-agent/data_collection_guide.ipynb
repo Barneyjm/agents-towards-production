{
 "cells": [
  {
   "cell_type": "markdown",
   "metadata": {},
   "source": [
    "![](https://europe-west1-atp-views-tracker.cloudfunctions.net/working-analytics?notebook=tutorials--anchor-browser-agent--anchor_browser_data_collection_guide)\n",
    "\n",
    "# Anchor Browser Agent Guide: Data Collection from Grafana Dashboards\n",
    "\n",
    "A comprehensive guide for integrating Anchor Browser Agent into production-ready AI systems, focusing on automated data collection from web-based dashboards and monitoring interfaces.\n"
   ]
  },
  {
   "cell_type": "markdown",
   "metadata": {},
   "source": [
    "## Introduction\n",
    "\n",
    "Modern AI agents often need to interact with web applications that were designed for human users rather than programmatic access. While many services offer APIs, a significant portion of critical business data remains locked behind web interfaces - dashboards, monitoring tools, and administrative panels that require browser-based interaction.\n",
    "\n",
    "Anchor Browser Agent addresses this challenge by providing a cloud-based browser automation platform specifically designed for AI agents. Unlike traditional web scraping tools that rely on fragile selectors and require extensive maintenance, Anchor leverages built-in AI capabilities to understand and interact with web interfaces contextually.\n",
    "\n",
    "This guide demonstrates how to build a robust data collection system that can extract structured information from complex web dashboards, using Grafana as our primary example. The techniques covered here apply broadly to any web-based monitoring or administrative interface.\n",
    "\n",
    "### Why This Approach Matters\n",
    "\n",
    "Traditional web automation approaches face several critical limitations:\n",
    "- **Maintenance Overhead**: CSS selectors break when interfaces change\n",
    "- **Scale Challenges**: Managing browser infrastructure is complex and costly\n",
    "- **Dynamic Content**: JavaScript-heavy applications often require sophisticated timing and interaction patterns\n",
    "- **Anti-Bot Detection**: Modern websites employ increasingly sophisticated bot detection mechanisms\n",
    "\n",
    "Anchor Browser Agent solves these problems by providing enterprise-grade browser automation as a service, with AI-powered navigation that adapts to interface changes and handles complex interaction patterns automatically."
   ]
  },
  {
   "cell_type": "markdown",
   "metadata": {},
   "source": [
    " ## Key Benefits and Capabilities\n",
    " \n",
    " Anchor Browser Agent offers:\n",
    " \n",
    " - **Cloud-based browsers**: No local setup - sessions run in isolated, reliable cloud environments.\n",
    " - **AI-powered web interaction**: Use natural language instructions instead of fragile selectors ([docs](https://docs.anchorbrowser.io/agentic-browser-control/ai-task-completion?utm_source=agents-towards-production)).\n",
    " - **Advanced session management**: Persist authentication, customize browser fingerprints, and control timeouts ([docs](https://docs.anchorbrowser.io/api-reference/browser-sessions/start-browser-session?utm_source=agents-towards-production)).\n",
    " - **Proxy & geo support**: Access geo-restricted content and avoid rate limits with residential/mobile proxies ([docs](https://docs.anchorbrowser.io/advanced/proxy?utm_source=agents-towards-production)).\n",
    " - **Session recording**: Record browser sessions for debugging and compliance ([docs](https://docs.anchorbrowser.io/essentials/recording?utm_source=agents-towards-production)).\n",
    " - **Profile management**: Persist browser identities for complex authentication flows ([docs](https://docs.anchorbrowser.io/essentials/authentication-and-identity?utm_source=agents-towards-production))."
   ]
  },
  {
   "cell_type": "markdown",
   "metadata": {},
   "source": [
    "## Architecture Overview\n",
    "\n",
    "Understanding how Anchor Browser Agent works will help you design more effective integrations with your AI systems.\n",
    "\n",
    "<img src=\"./assets/data-collection-diagram.png\" alt=\"Anchor Browser Agent Architecture\" width=\"600\"/>\n",
    "\n",
    "The architecture follows a cloud-native design where your AI agent communicates with remote browser instances through a combination of REST APIs and real-time protocols:\n",
    "\n",
    "1. **Session Creation**: Your agent uses Anchor's REST API to create configured browser sessions\n",
    "2. **Browser Control**: Direct connection to browser instances via Chrome DevTools Protocol (CDP)\n",
    "3. **AI Navigation**: Built-in AI agents handle complex web interactions based on natural language instructions\n",
    "4. **Data Extraction**: Structured data is returned to your agent for further processing\n",
    "\n",
    "This separation of concerns allows for both simple automation tasks and sophisticated interaction patterns while maintaining the reliability and scalability required for production systems."
   ]
  },
  {
   "cell_type": "markdown",
   "metadata": {},
   "source": [
    "## System Requirements\n",
    "Python 3.11 or higher is required for optimal performance and compatibility. Newer Python versions provide:\n"
   ]
  },
  {
   "cell_type": "markdown",
   "metadata": {},
   "source": [
    "## Getting Started: Account Setup and Authentication\n",
    "\n",
    "Setting up your Anchor Browser Agent integration requires obtaining API credentials and configuring your development environment.\n",
    "\n",
    "### Creating Your Anchor Browser Account\n",
    "\n",
    "Navigate to [anchorbrowser.io](https://anchorbrowser.io?utm_source=agents-towards-production) to create your account. The platform offers a free tier that provides sufficient quota for development and testing of automation workflows.\n",
    "\n",
    "<img src=\"./assets/signup.png\" alt=\"Account Creation Process\" width=\"300\"/>\n",
    "\n",
    "### Generating API Credentials\n",
    "\n",
    "After account creation, visit the [API Access Page](https://app.anchorbrowser.io/api-access?utm_source=agents-towards-production) to generate your API key. This key will authenticate all requests to the Anchor platform and should be treated as a sensitive credential.\n",
    "\n",
    "<img src=\"./assets/dashboard.png\" alt=\"API Key Generation Interface\" width=\"500\"/>\n",
    "\n",
    "### Security Considerations\n",
    "\n",
    "When handling API keys in production environments:\n",
    "- Store keys in environment variables or secure configuration management systems\n",
    "- Never commit API keys to version control systems\n",
    "- Implement key rotation policies for long-running production systems\n",
    "- Monitor API usage to detect unauthorized access\n",
    "\n",
    "### Installing Required Dependencies\n",
    "\n",
    "The Anchor Browser Agent integration requires two primary Python packages that work together to provide comprehensive browser automation capabilities."
   ]
  },
  {
   "cell_type": "markdown",
   "metadata": {},
   "source": [
    "## Dependency Installation and Configuration\n",
    "\n",
    "Install the required Python packages for Anchor Browser Agent integration:"
   ]
  },
  {
   "cell_type": "code",
   "execution_count": null,
   "metadata": {},
   "outputs": [],
   "source": [
    "# Install core dependencies for browser automation\n",
    "# playwright: Provides Chrome DevTools Protocol interface for browser control\n",
    "# requests: HTTP client library for Anchor API communication\n",
    "!pip3 install playwright requests"
   ]
  },
  {
   "cell_type": "markdown",
   "metadata": {},
   "source": [
    "### Understanding the Dependency Stack\n",
    "\n",
    "**Playwright** serves as the bridge between your Python code and browser instances:\n",
    "- Provides a robust Chrome DevTools Protocol (CDP) implementation\n",
    "- Handles real-time communication with remote browser sessions\n",
    "- Offers comprehensive error handling and connection management\n",
    "- Supports both synchronous and asynchronous operation modes\n",
    "\n",
    "**Requests** manages HTTP communication with Anchor's REST API:\n",
    "- Session creation and configuration\n",
    "- Authentication and credential management\n",
    "- Session lifecycle operations (start, monitor, terminate)\n",
    "\n",
    "This two-layer approach separates session management (REST API) from real-time browser control (CDP), providing both simplicity for basic operations and power for complex automation scenarios."
   ]
  },
  {
   "cell_type": "markdown",
   "metadata": {},
   "source": [
    "## Use Case: Automated Data Collection from Grafana Dashboards\n",
    "\n",
    "This section demonstrates a practical implementation of Anchor Browser Agent for extracting structured data from web-based monitoring dashboards. We'll use Grafana as our example, but the principles apply to any dynamic web interface.\n",
    "\n",
    "### Understanding the Challenge\n",
    "\n",
    "Grafana dashboards present several automation challenges that make them ideal for demonstrating Anchor's capabilities:\n",
    "- **Dynamic Content Loading**: Charts and metrics load asynchronously via JavaScript\n",
    "- **Interactive Elements**: Some data only appears through hover actions or click interactions\n",
    "- **Authentication Requirements**: Production dashboards often require SSO or complex login flows\n",
    "- **Real-Time Updates**: Data refreshes continuously, requiring careful timing considerations\n",
    "\n",
    "### Business Value\n",
    "\n",
    "Automated dashboard monitoring enables AI agents to:\n",
    "- Continuously monitor infrastructure health without human intervention\n",
    "- Correlate metrics across multiple monitoring systems\n",
    "- Detect anomalies and patterns that might be missed in manual reviews\n",
    "- Generate automated reports and alerts based on visual dashboard data\n",
    "\n",
    "### Target Dashboard Overview\n",
    "\n",
    "Our example focuses on a Kubernetes monitoring dashboard that displays critical infrastructure metrics:\n",
    "\n",
    "<img src=\"./assets/grafana-dashboard.png\" alt=\"Example Grafana Dashboard\" width=\"800\"/>\n",
    "\n",
    "This dashboard contains:\n",
    "- Node performance metrics and resource utilization\n",
    "- CPU and memory usage percentages across cluster nodes\n",
    "- Network and storage performance indicators\n",
    "- Alert status and health indicators\n",
    "\n",
    "The goal is to extract this visual information as structured data that can be processed by downstream AI systems."
   ]
  },
  {
   "cell_type": "markdown",
   "metadata": {},
   "source": [
    "## Implementation: Browser Session Creation\n",
    "\n",
    "The first step in any Anchor Browser automation is creating a properly configured browser session. Session configuration significantly impacts performance, cost, and reliability."
   ]
  },
  {
   "cell_type": "code",
   "execution_count": null,
   "metadata": {},
   "outputs": [],
   "source": [
    "import requests\n",
    "import json\n",
    "\n",
    "# Configure the browser session for data collection\n",
    "# API endpoint for session creation\n",
    "url = \"https://api.anchorbrowser.io/v1/sessions\"\n",
    "\n",
    "# Session configuration optimized for dashboard monitoring\n",
    "payload = {\n",
    "    \"session\": {\n",
    "        # Timeout configuration balanced for form completion workflows\n",
    "        \"timeout\": {\n",
    "            \"max_duration\": 4,  # Allow sufficient time for multi-page forms\n",
    "            \"idle_timeout\": 2   # Quick cleanup after form completion\n",
    "        },\n",
    "        # Enable recording for debugging and compliance\n",
    "        \"recording\": {\n",
    "            \"active\": True,    # Record session for debugging purposes, Default is True\n",
    "        }\n",
    "    },\n",
    "    # Browser configuration for optimal form rendering\n",
    "    \"browser\": {\n",
    "        \"viewport\": {\n",
    "            \"width\": 1920,   # Ensure form elements are fully visible\n",
    "            \"height\": 1080   # Accommodate complex form layouts\n",
    "        }\n",
    "    }\n",
    "}\n",
    "\n",
    "# Authentication headers for API access\n",
    "headers = {\n",
    "    \"anchor-api-key\": \"<ANCHOR-API-KEY>\",  # Replace with your actual API key\n",
    "    \"Content-Type\": \"application/json\"\n",
    "}\n",
    "\n",
    "# Create the browser session\n",
    "response = requests.post(url, json=payload, headers=headers)\n",
    "\n",
    "# Parse the response and extract connection details\n",
    "session_data = response.json()\n",
    "print(\"Session created successfully:\")\n",
    "print(json.dumps(session_data, indent=2))\n",
    "\n",
    "# Extract the Chrome DevTools Protocol URL for browser connection\n",
    "connection_string = session_data['data']['cdp_url']\n",
    "print(f\"\\nBrowser connection URL: {connection_string}\")"
   ]
  },
  {
   "cell_type": "markdown",
   "metadata": {},
   "source": [
    "### Understanding Session Configuration\n",
    "\n",
    "**Timeout Settings**: The timeout configuration balances cost control with operational flexibility. The `max_duration` prevents runaway sessions that could incur unexpected charges, while `idle_timeout` ensures efficient resource cleanup when automation completes.\n",
    "\n",
    "**Viewport Configuration**: Setting a large viewport (1920x1080) ensures that dashboard elements are fully visible and properly rendered. Many responsive web applications adjust their layout based on viewport size, so consistent sizing prevents layout-related automation failures.\n",
    "\n",
    "**Recording Features**: Enabling session recording provides valuable debugging capabilities. Video recordings allow you to see exactly what the browser encountered during automation, making it easier to diagnose failures and optimize interaction patterns.\n",
    "\n",
    "**Connection URL**: The `cdp_url` returned in the response provides direct access to the browser instance via Chrome DevTools Protocol. This URL enables real-time control and monitoring of the browser session."
   ]
  },
  {
   "cell_type": "markdown",
   "metadata": {},
   "source": [
    "## Implementation: AI-Powered Data Extraction\n",
    "\n",
    "With the browser session established, we can now implement the core data extraction functionality using Anchor's built-in AI capabilities."
   ]
  },
  {
   "cell_type": "code",
   "execution_count": null,
   "metadata": {},
   "outputs": [],
   "source": [
    "from playwright.async_api import async_playwright\n",
    "import asyncio\n",
    "\n",
    "# Execute the data extraction process\n",
    "async with async_playwright() as playwright:\n",
    "    # Connect to the cloud browser instance via Chrome DevTools Protocol\n",
    "    browser = await playwright.chromium.connect_over_cdp(connection_string)\n",
    "    \n",
    "    # Access the default browser context provided by Anchor\n",
    "    context = browser.contexts[0]\n",
    "    \n",
    "    # Locate Anchor's built-in AI agent service worker\n",
    "    # This AI agent understands web interfaces and can execute natural language instructions\n",
    "    ai_agent_url = \"chrome-extension://bppehibnhionalpjigdjdilknbljaeai/background.js\"\n",
    "    ai_agent = next((sw for sw in context.service_workers if sw.url == ai_agent_url), None)\n",
    "    \n",
    "    if not ai_agent:\n",
    "        raise Exception(\"AI agent not found in browser context\")\n",
    "    \n",
    "    # Get the active page or create a new one\n",
    "    page = context.pages[0] if context.pages else await context.new_page()\n",
    "    \n",
    "    # Navigate to the target Grafana dashboard\n",
    "    # This example uses a public Grafana demo instance\n",
    "    dashboard_url = \"https://play.grafana.org/a/grafana-k8s-app/navigation/nodes?from=now-1h&to=now&refresh=1m\"\n",
    "    \n",
    "    print(f\"Navigating to dashboard: {dashboard_url}\")\n",
    "    await page.goto(dashboard_url, wait_until=\"domcontentloaded\")\n",
    "    \n",
    "    # Wait for dynamic content to load\n",
    "    # Grafana dashboards load charts asynchronously, so we need to allow time for rendering\n",
    "    print(\"Waiting for dashboard content to load...\")\n",
    "    await asyncio.sleep(5)\n",
    "    \n",
    "    # Use the AI agent to extract structured data from the dashboard\n",
    "    # The AI understands the visual layout and can extract meaningful data\n",
    "    extraction_prompt = 'Collect the node names and their CPU average %, return in JSON array'\n",
    "    \n",
    "    print(\"AI agent analyzing dashboard content...\")\n",
    "    result = await ai_agent.evaluate(extraction_prompt)\n",
    "    \n",
    "    print(\"\\nExtracted data:\")\n",
    "    print(result)"
   ]
  },
  {
   "cell_type": "markdown",
   "metadata": {},
   "source": [
    "### Understanding the AI Extraction Process\n",
    "\n",
    "**Browser Connection**: The `connect_over_cdp` method establishes a direct connection to the cloud browser instance. This provides real-time control capabilities similar to what you would have with a local browser, but with the benefits of cloud infrastructure.\n",
    "\n",
    "**AI Agent Integration**: Anchor's built-in AI agent runs as a service worker within the browser context. This agent has been trained to understand web interfaces and can execute natural language instructions to interact with complex layouts.\n",
    "\n",
    "**Navigation Strategy**: Using `wait_until=\"domcontentloaded\"` ensures the basic page structure is ready before proceeding. The additional sleep period allows time for JavaScript-driven content (like Grafana charts) to render completely.\n",
    "\n",
    "**Natural Language Instructions**: Instead of writing complex selectors or interaction scripts, you can provide natural language instructions to the AI agent. The agent interprets these instructions contextually and adapts to the specific layout it encounters.\n",
    "\n",
    "**Async/Await Pattern**: The code uses Python's async/await syntax to handle the asynchronous nature of browser automation. This is particularly important in Jupyter notebooks, which have specific requirements for async code execution."
   ]
  },
  {
   "cell_type": "markdown",
   "metadata": {},
   "source": [
    "### Synchronous Alternative for Standard Python Scripts\n",
    "\n",
    "The previous example uses `async_playwright` for Jupyter notebook compatibility. In standard Python scripts, you can use the synchronous version for simpler code structure:"
   ]
  },
  {
   "cell_type": "code",
   "execution_count": null,
   "metadata": {},
   "outputs": [],
   "source": [
    "# Alternative implementation for standard Python scripts (non-async)\n",
    "# Remove the 'await' keywords and use sync_playwright instead\n",
    "\n",
    "# from playwright.sync_api import sync_playwright\n",
    "# \n",
    "# with sync_playwright() as playwright:\n",
    "#     browser = playwright.chromium.connect_over_cdp(connection_string)\n",
    "#     context = browser.contexts[0]\n",
    "#     ai_agent_url = \"chrome-extension://bppehibnhionalpjigdjdilknbljaeai/background.js\"\n",
    "#     ai_agent = next((sw for sw in context.service_workers if sw.url == ai_agent_url), None)\n",
    "#     page = context.pages[0]\n",
    "#     \n",
    "#     page.goto(dashboard_url, wait_until=\"domcontentloaded\")\n",
    "#     result = ai_agent.evaluate(extraction_prompt)\n",
    "#     print(result)\n",
    "\n",
    "print(\"Note: Use the synchronous version above in standard Python scripts.\")\n",
    "print(\"Remove 'await' keywords and use 'sync_playwright' instead of 'async_playwright'.\")"
   ]
  },
  {
   "cell_type": "markdown",
   "metadata": {},
   "source": [
    "## Production Best Practices\n",
    "\n",
    "When deploying Anchor Browser Agent in production environments, following these best practices will ensure reliable, maintainable, and cost-effective automation.\n",
    "\n",
    "\n",
    "### Session Lifecycle Management\n",
    "Use [session timeout configurations](https://docs.anchorbrowser.io/advanced/session-termination?utm_source=agents-towards-production) appropriate for your use case. Implement proper session cleanup to avoid unnecessary charges. Consider session pooling for high-frequency operations.\n",
    "\n",
    "### Authentication and State Management\n",
    "For dashboards requiring authentication, leverage [persistent browser profiles](https://docs.anchorbrowser.io/essentials/authentication-and-identity?utm_source=agents-towards-production) to maintain login state across multiple automation runs. This eliminates the need to re-authenticate for each session.\n",
    "\n",
    "### Batch Processing Optimization\n",
    "When extracting data from multiple dashboards or performing related tasks, batch these operations within single sessions to optimize resource usage and reduce overhead.\n",
    "\n",
    "### Security and Credential Management\n",
    "Store API keys and other sensitive credentials in environment variables or secure configuration management systems. Implement key rotation policies and monitor API usage for security anomalies.\n",
    "\n"
   ]
  }
 ],
 "metadata": {
  "kernelspec": {
   "display_name": "Python 3 (ipykernel)",
   "language": "python",
   "name": "python3"
  },
  "language_info": {
   "codemirror_mode": {
    "name": "ipython",
    "version": 3
   },
   "file_extension": ".py",
   "mimetype": "text/x-python",
   "name": "python",
   "nbconvert_exporter": "python",
   "pygments_lexer": "ipython3",
   "version": "3.13.5"
  }
 },
 "nbformat": 4,
 "nbformat_minor": 4
}
