{
 "cells": [
  {
   "cell_type": "markdown",
   "metadata": {},
   "source": [
    "# Building Location-Aware Agents with LangChain & Camino AI 🗺️🤖\n",
    "\n",
    "Welcome to this comprehensive tutorial on building intelligent location-aware agents using **LangChain** and **Camino AI**. While web search tools like Tavily help agents access online information, Camino AI enables agents to understand and reason about the physical world through location intelligence.\n",
    "\n",
    "## What You'll Learn\n",
    "\n",
    "In this tutorial, you'll discover how to:\n",
    "- 🔧 **Set up Camino AI tools** with LangChain for location intelligence\n",
    "- 🤖 **Build autonomous agents** that can search places, plan routes, and understand spatial context\n",
    "- 🧠 **Create ReAct agents** that reason about location-based tasks\n",
    "- 🔗 **Combine multiple tools** for complex real-world scenarios\n",
    "- 💾 **Add memory** to agents for contextual location awareness\n",
    "- 🚀 **Deploy production-ready** location-aware AI systems\n",
    "\n",
    "## Why Camino AI + LangChain?\n",
    "\n",
    "The combination of Camino AI and LangChain provides:\n",
    "- **Natural Language Understanding**: Convert queries like \"quiet cafes for working\" into actionable location searches\n",
    "- **Spatial Reasoning**: Calculate distances, routes, and relationships between places\n",
    "- **Context Awareness**: Understand neighborhoods, amenities, and local context\n",
    "- **Journey Planning**: Optimize multi-stop trips with constraints\n",
    "- **Cost-Effective**: $0.001 per API call\n",
    "- **Agent-First Design**: Built specifically for AI agents, not traditional apps\n",
    "\n",
    "---"
   ]
  },
  {
   "cell_type": "markdown",
   "metadata": {},
   "source": [
    "## Part 1: Setup and Installation\n",
    "\n",
    "### Prerequisites\n",
    "\n",
    "1. **Sign up for Camino AI** at [app.getcamino.ai](https://app.getcamino.ai?utm_source=agents-towards-production&utm_medium=github&utm_campaign=tutorial) to get your API key\n",
    "2. **Get an Anthropic API key** (or use another LLM provider supported by LangChain)\n",
    "3. **Install dependencies** using the cells below"
   ]
  },
  {
   "cell_type": "code",
   "execution_count": null,
   "metadata": {},
   "outputs": [],
   "source": [
    "# Install required packages\n",
    "%pip install --upgrade langchain langchain-anthropic langchain-community langgraph langchain-camino python-dotenv --quiet"
   ]
  },
  {
   "cell_type": "markdown",
   "metadata": {},
   "source": [
    "### Initialize API Clients"
   ]
  },
  {
   "cell_type": "code",
   "execution_count": 1,
   "metadata": {},
   "outputs": [
    {
     "name": "stdin",
     "output_type": "stream",
     "text": [
      "Enter your Camino API Key:  ········\n",
      "Enter your Anthropic API Key:  ········\n"
     ]
    },
    {
     "name": "stdout",
     "output_type": "stream",
     "text": [
      "✅ API keys configured successfully!\n"
     ]
    }
   ],
   "source": [
    "import os\n",
    "import getpass\n",
    "from dotenv import load_dotenv\n",
    "\n",
    "# Load environment variables\n",
    "load_dotenv()\n",
    "\n",
    "# Prompt for API keys if not set\n",
    "if not os.environ.get(\"CAMINO_API_KEY\"):\n",
    "    os.environ[\"CAMINO_API_KEY\"] = getpass.getpass(\"Enter your Camino API Key: \")\n",
    "\n",
    "if not os.environ.get(\"OPENAI_API_KEY\"):\n",
    "    os.environ[\"ANTHROPIC_API_KEY\"] = getpass.getpass(\"Enter your Anthropic API Key: \")\n",
    "\n",
    "print(\"✅ API keys configured successfully!\")"
   ]
  },
  {
   "cell_type": "markdown",
   "metadata": {},
   "source": [
    "## Part 2: Setting Up Camino AI Tools\n",
    "\n",
    "Camino AI provides six main tools for LangChain:\n",
    "1. **CaminoSearch**: Natural language place search with AI ranking\n",
    "2. **CaminoQuery**: Advanced queries with context and spatial reasoning\n",
    "3. **CaminoRoute**: Routing between two points\n",
    "4. **CaminoJourney**: Multi-stop journey planning and optimization\n",
    "5. **CaminoContext**: Provides an Agent-ready contextual overview of a location\n",
    "6. **CaminoRelationship**: Provides the relationship between two distinct points"
   ]
  },
  {
   "cell_type": "code",
   "execution_count": 6,
   "metadata": {},
   "outputs": [
    {
     "name": "stdout",
     "output_type": "stream",
     "text": [
      "🛠️ Camino tools initialized:\n",
      "  • camino_search: Search for places by name using the Camino AI Reality Grounding API. This tool uses Nominatim for location lookup and returns detailed place information including coordinates, addresses, and place types. Useful for finding specific locations, businesses, landmarks, or points of interest.\n",
      "  • camino_query: Make natural language location queries using the Camino AI Reality Grounding API. This tool converts natural language queries to location searches and supports location-based POI discovery with optional AI-powered result ranking. Useful for finding places based on descriptive queries like 'coffee shops near me', 'best restaurants in downtown', or 'parks within walking distance'.\n",
      "  • camino_journey: Plan multi-waypoint journeys using the Camino AI Reality Grounding API. This tool provides route optimization, supports different transport modes, and handles complex journey planning with multiple stops. Useful for planning trips with multiple destinations, delivery routes, or sightseeing tours with optimized routing.\n"
     ]
    }
   ],
   "source": [
    "# Import Camino tools for LangChain\n",
    "from langchain_camino import CaminoSearch, CaminoQuery, CaminoJourney\n",
    "            \n",
    "camino_search = CaminoSearch()\n",
    "camino_query = CaminoQuery()\n",
    "camino_journey = CaminoJourney()\n",
    "\n",
    "print(\"🛠️ Camino tools initialized:\")\n",
    "print(f\"  • {camino_search.name}: {camino_search.description}\")\n",
    "print(f\"  • {camino_query.name}: {camino_query.description}\")\n",
    "print(f\"  • {camino_journey.name}: {camino_journey.description}\")\n"
   ]
  },
  {
   "cell_type": "markdown",
   "metadata": {},
   "source": [
    "### Test Individual Tools"
   ]
  },
  {
   "cell_type": "code",
   "execution_count": 8,
   "metadata": {},
   "outputs": [
    {
     "name": "stdout",
     "output_type": "stream",
     "text": [
      "🔍 Testing CaminoSearch...\n",
      "\n",
      "{'places': [{'name': 'Eiffel Tower', 'lat': 43.2844294, 'lon': 28.0440305, 'address': '', 'place_type': ''}], 'query': 'eiffel tower', 'total_results': 7}\n",
      "🔍 Testing CaminoQuery...\n",
      "\n",
      "{'results': [{'name': 'La Fondita', 'lat': 40.6647223, 'lon': -73.9895351, 'distance': None, 'type': 'cafe', 'rating': None, 'confidence': 1.0}, {'name': 'Mocha Hookah', 'lat': 40.6901914, 'lon': -73.9935675, 'distance': None, 'type': 'cafe', 'rating': None, 'confidence': 0.9}, {'name': 'Blank Street Coffee', 'lat': 40.6872881, 'lon': -73.9753082, 'distance': None, 'type': 'cafe', 'rating': None, 'confidence': 0.8}, {'name': 'Southside Coffee', 'lat': 40.6611342, 'lon': -73.9902727, 'distance': None, 'type': 'cafe', 'rating': None, 'confidence': 0.7}, {'name': 'Doughnut Plant', 'lat': 40.7174274, 'lon': -73.9583326, 'distance': None, 'type': 'cafe', 'rating': None, 'confidence': 0.6}, {'name': 'Canteen Delicatessen & Cafe', 'lat': 40.6825167, 'lon': -73.9793167, 'distance': None, 'type': 'cafe', 'rating': None, 'confidence': 0.5}, {'name': 'Bakeri', 'lat': 40.7200059, 'lon': -73.9600762, 'distance': None, 'type': 'cafe', 'rating': None, 'confidence': 0.3999999999999999}, {'name': 'Clever Blend', 'lat': 40.679722, 'lon': -73.9780478, 'distance': None, 'type': 'cafe', 'rating': None, 'confidence': 0.29999999999999993}, {'name': 'Aura', 'lat': 40.6764594, 'lon': -73.9625671, 'distance': None, 'type': 'cafe', 'rating': None, 'confidence': 0.19999999999999996}, {'name': 'Tutt Café', 'lat': 40.7002323, 'lon': -73.9933602, 'distance': None, 'type': 'cafe', 'rating': None, 'confidence': 0.1}, {'name': \"Poppy's Cafe\", 'lat': 40.6995716, 'lon': -73.9921353, 'distance': None, 'type': 'cafe', 'rating': None, 'confidence': 0.1}, {'name': 'Cafe', 'lat': 40.669376, 'lon': -73.9630352, 'distance': None, 'type': 'cafe', 'rating': None, 'confidence': 0.1}, {'name': 'Olde Brooklyn Bagel Shoppe', 'lat': 40.6777429, 'lon': -73.9686298, 'distance': None, 'type': 'cafe', 'rating': None, 'confidence': 0.1}, {'name': 'The Bakery on Bergen', 'lat': 40.6784602, 'lon': -73.9641499, 'distance': None, 'type': 'cafe', 'rating': None, 'confidence': 0.1}, {'name': 'Uro Cafe', 'lat': 40.7224661, 'lon': -73.9488216, 'distance': None, 'type': 'cafe', 'rating': None, 'confidence': 0.1}, {'name': 'Black Brick', 'lat': 40.7141835, 'lon': -73.9616239, 'distance': None, 'type': 'cafe', 'rating': None, 'confidence': 0.1}, {'name': 'The West', 'lat': 40.7117855, 'lon': -73.9514399, 'distance': None, 'type': 'cafe', 'rating': None, 'confidence': 0.1}, {'name': 'Peckish', 'lat': 40.6917184, 'lon': -73.9711843, 'distance': None, 'type': 'cafe', 'rating': None, 'confidence': 0.1}, {'name': 'Brooklyn Tea', 'lat': 40.6814376, 'lon': -73.9346162, 'distance': None, 'type': 'cafe', 'rating': None, 'confidence': 0.1}, {'name': 'Eagle Trading Company', 'lat': 40.734967, 'lon': -73.9582704, 'distance': None, 'type': 'cafe', 'rating': None, 'confidence': 0.1}], 'query': 'cafes in Brooklyn NY', 'total_results': 747, 'ai_ranked': True}\n"
     ]
    }
   ],
   "source": [
    "# Test CaminoSearch tool\n",
    "print(\"🔍 Testing CaminoSearch...\\n\")\n",
    "\n",
    "result = camino_search.invoke({\"query\": \"eiffel tower\", \"limit\": 1})\n",
    "\n",
    "print(result)\n",
    "\n",
    "print(\"🔍 Testing CaminoQuery...\\n\")\n",
    "result = camino_query.invoke({\"query\":\"cafes in Brooklyn NY\"})\n",
    "\n",
    "print(result)"
   ]
  },
  {
   "cell_type": "code",
   "execution_count": 19,
   "metadata": {},
   "outputs": [
    {
     "name": "stdout",
     "output_type": "stream",
     "text": [
      "🎯 Testing CaminoQuery with included answer\n",
      "\n",
      "💡 Recommendation: {'results': [{'name': 'City Market Cafe', 'lat': 40.7786106, 'lon': -73.9606629, 'distance': None, 'type': 'cafe', 'rating': None, 'confidence': 1.0}, {'name': 'Starbucks', 'lat': 40.7799038, 'lon': -73.9597037, 'distance': None, 'type': 'cafe', 'rating': None, 'confidence': 0.9}, {'name': 'Tal Bagels', 'lat': 40.7777126, 'lon': -73.9570936, 'distance': None, 'type': 'cafe', 'rating': None, 'confidence': 0.8}, {'name': 'American Wing Café', 'lat': 40.7802595, 'lon': -73.9635992, 'distance': None, 'type': 'cafe', 'rating': None, 'confidence': 0.7}, {'name': 'Petrie Court Café', 'lat': 40.7791519, 'lon': -73.9644503, 'distance': None, 'type': 'cafe', 'rating': None, 'confidence': 0.6}, {'name': 'E.A.T.', 'lat': 40.7773359, 'lon': -73.9615905, 'distance': None, 'type': 'cafe', 'rating': None, 'confidence': 0.5}, {'name': 'Dear Coffee', 'lat': 40.778152, 'lon': -73.9567392, 'distance': None, 'type': 'cafe', 'rating': None, 'confidence': 0.3999999999999999}], 'query': 'cafe', 'total_results': 7, 'ai_ranked': True}\n",
      "\n"
     ]
    }
   ],
   "source": [
    "# Test CaminoQuery for advanced context-aware search\n",
    "print(\"🎯 Testing CaminoQuery with included answer\\n\")\n",
    "\n",
    "query_result = camino_query.invoke({\n",
    "    \"query\": \"cafe\",\n",
    "    \"lat\": 40.779144,  # Central Park area\n",
    "    \"lon\": -73.962429,\n",
    "    \"radius\": 500,\n",
    "    \"answer\": True,\n",
    "    \"rank\": True\n",
    "})\n",
    "\n",
    "print(f\"💡 Recommendation: {query_result}\\n\")"
   ]
  },
  {
   "cell_type": "code",
   "execution_count": 25,
   "metadata": {},
   "outputs": [
    {
     "name": "stdout",
     "output_type": "stream",
     "text": [
      "🗺️ Testing CaminoJourney...\n",
      "\n",
      "{'journey': {'total_distance': 3.17, 'total_duration': None, 'optimized': True, 'transport_mode': 'walk', 'feasible': True, 'waypoints': [{'lat': 40.77903, 'lon': -73.962353, 'order': 0, 'purpose': 'Stop 1'}, {'lat': 40.7786106, 'lon': -73.9606629, 'order': 1, 'purpose': 'Stop 2'}, {'lat': 40.758745, 'lon': -73.985123, 'order': 2, 'purpose': 'Stop 3'}], 'route_geometry': '', 'instructions': []}}\n"
     ]
    }
   ],
   "source": [
    "# Test CaminoJourney for trip planning\n",
    "print(\"🗺️ Testing CaminoJourney...\\n\")\n",
    "\n",
    "# journey_result = camino_journey.invoke({\n",
    "#     \"waypoints\": [\n",
    "#         {\"lat\":40.77903,\"lon\":-73.962353,\"purpose\":\"Museum\"},\n",
    "#         {\"lat\":40.7786106,\"lon\":-73.9606629,\"purpose\":\"Coffee Shop\"}\n",
    "#     ],\n",
    "#     \"constraints\": {\n",
    "#         \"transport\":\"walking\",\n",
    "#         \"time_budget\":\"30 minutes\"\n",
    "#     }\n",
    "# })\n",
    "\n",
    "journey_result = camino_journey.invoke({\n",
    "                \"waypoints\": [(40.77903, -73.962353), (40.7786106, -73.9606629), (40.758745, -73.985123)],\n",
    "                \"transport_mode\": \"walk\",\n",
    "                \"optimize\": True\n",
    "            })\n",
    "\n",
    "print(journey_result)"
   ]
  },
  {
   "cell_type": "markdown",
   "metadata": {},
   "source": [
    "## Part 3: Building a ReAct Location Agent\n",
    "\n",
    "Now let's build an intelligent agent that can reason about location-based tasks using the ReAct (Reasoning and Acting) framework."
   ]
  },
  {
   "cell_type": "code",
   "execution_count": 26,
   "metadata": {},
   "outputs": [
    {
     "name": "stdout",
     "output_type": "stream",
     "text": [
      "🤖 Location-aware ReAct agent created successfully!\n"
     ]
    }
   ],
   "source": [
    "from langchain_anthropic import ChatAnthropic\n",
    "from langgraph.prebuilt import create_react_agent\n",
    "from langchain_core.prompts import ChatPromptTemplate, MessagesPlaceholder\n",
    "import datetime\n",
    "\n",
    "# Initialize the LLM\n",
    "llm = ChatAnthropic(\n",
    "    model=\"claude-3-7-sonnet-latest\",\n",
    "    temperature=0.7\n",
    ")\n",
    "\n",
    "# Get today's date for context\n",
    "today = datetime.datetime.today().strftime(\"%A, %B %d, %Y\")\n",
    "\n",
    "# Create the location-aware agent\n",
    "location_agent = create_react_agent(\n",
    "    model=llm,\n",
    "    tools=[camino_search, camino_query, camino_journey],\n",
    "    prompt=ChatPromptTemplate.from_messages([\n",
    "        (\n",
    "            \"system\",\n",
    "            f\"\"\"\n",
    "You are a highly capable location-aware AI assistant equipped with Camino AI tools for understanding and navigating the physical world. Your mission is to help users with location-based tasks, providing accurate, context-aware, and actionable information.\n",
    "\n",
    "**Today's Date:** {today}\n",
    "\n",
    "**Available Tools:**\n",
    "\n",
    "1. **CaminoSearch** - Natural language place search\n",
    "   - Use for: Finding specific types of places (restaurants, shops, services)\n",
    "   - Features: AI-powered ranking, distance calculation, relevance scoring\n",
    "   - Best for: \"Find coffee shops near me\" or \"Where can I buy electronics?\"\n",
    "\n",
    "2. **CaminoQuery** - Advanced contextual search\n",
    "   - Use for: Complex queries requiring context understanding\n",
    "   - Features: Context-aware results, intent recognition, detailed summaries\n",
    "   - Best for: \"Romantic dinner spot for anniversary\" or \"Quiet workspace with parking\"\n",
    "\n",
    "3. **CaminoJourney** - Multi-stop journey planning\n",
    "   - Use for: Planning trips with multiple destinations\n",
    "   - Features: Route optimization, time estimation, transport modes\n",
    "   - Best for: \"Plan a day of sightseeing\" or \"Optimize delivery route\"\n",
    "\n",
    "**Guidelines for Location Intelligence:**\n",
    "\n",
    "1. **Understand Context**: Consider the user's intent, time constraints, and preferences\n",
    "2. **Be Specific**: Use detailed queries to get better results\n",
    "3. **Consider Proximity**: Factor in distances and travel times\n",
    "4. **Provide Options**: Offer multiple choices when appropriate\n",
    "5. **Add Value**: Include helpful details like hours, ratings, or tips\n",
    "\n",
    "**Reasoning Process:**\n",
    "- Thought: Analyze what information is needed\n",
    "- Action: Choose and execute the appropriate tool\n",
    "- Observation: Evaluate the results\n",
    "- Iterate as needed to provide comprehensive answers\n",
    "\n",
    "**Example Workflows:**\n",
    "\n",
    "**Simple Search:**\n",
    "User: \"Find Italian restaurants nearby\"\n",
    "→ Use CaminoSearch with query \"Italian restaurants\"\n",
    "\n",
    "**Context-Aware Search:**\n",
    "User: \"I need a quiet place to study with good coffee\"\n",
    "→ Use CaminoQuery with context about studying needs\n",
    "\n",
    "**Journey Planning:**\n",
    "User: \"Plan a tourist day visiting major attractions\"\n",
    "→ Use CaminoJourney to optimize the route between attractions\n",
    "\n",
    "Remember to:\n",
    "- Provide clear, actionable recommendations\n",
    "- Include relevant details (distance, time, cost estimates)\n",
    "- Explain your reasoning when making suggestions\n",
    "- Ask for clarification if the request is ambiguous\n",
    "\"\"\"\n",
    "        ),\n",
    "        MessagesPlaceholder(variable_name=\"messages\"),\n",
    "    ]),\n",
    "    name=\"location_agent\"\n",
    ")\n",
    "\n",
    "print(\"🤖 Location-aware ReAct agent created successfully!\")"
   ]
  },
  {
   "cell_type": "markdown",
   "metadata": {},
   "source": [
    "### Test the Location Agent"
   ]
  },
  {
   "cell_type": "code",
   "execution_count": 27,
   "metadata": {},
   "outputs": [
    {
     "name": "stdout",
     "output_type": "stream",
     "text": [
      "🧪 Test 1: Simple Location Search\n",
      "\n",
      "================================\u001b[1m Human Message \u001b[0m=================================\n",
      "\n",
      "Find the best ramen restaurants in Manhattan\n",
      "==================================\u001b[1m Ai Message \u001b[0m==================================\n",
      "Name: location_agent\n",
      "\n",
      "[{'text': \"I'd be happy to find the best ramen restaurants in Manhattan for you! Let me search for that information.\", 'type': 'text'}, {'id': 'toolu_01XfaWSq85vEQXgp1At3UMoX', 'input': {'query': 'best ramen restaurants in Manhattan, New York', 'limit': 10, 'ai_ranking': True}, 'name': 'camino_query', 'type': 'tool_use'}]\n",
      "Tool Calls:\n",
      "  camino_query (toolu_01XfaWSq85vEQXgp1At3UMoX)\n",
      " Call ID: toolu_01XfaWSq85vEQXgp1At3UMoX\n",
      "  Args:\n",
      "    query: best ramen restaurants in Manhattan, New York\n",
      "    limit: 10\n",
      "    ai_ranking: True\n",
      "=================================\u001b[1m Tool Message \u001b[0m=================================\n",
      "Name: camino_query\n",
      "\n",
      "{\"results\": [{\"name\": \"Mr. Keke\", \"lat\": 40.7290829, \"lon\": -73.990007, \"distance\": null, \"type\": \"restaurant\", \"rating\": null, \"confidence\": 1.0}, {\"name\": \"Ippudo\", \"lat\": 40.7309292, \"lon\": -73.990263, \"distance\": null, \"type\": \"restaurant\", \"rating\": null, \"confidence\": 0.9}, {\"name\": \"Ippudo\", \"lat\": 40.763547, \"lon\": -73.9865301, \"distance\": null, \"type\": \"restaurant\", \"rating\": null, \"confidence\": 0.8}, {\"name\": \"Toribro Ramen\", \"lat\": 40.7644404, \"lon\": -73.9875805, \"distance\": null, \"type\": \"restaurant\", \"rating\": null, \"confidence\": 0.7}, {\"name\": \"Totto Ramen\", \"lat\": 40.765008, \"lon\": -73.9909984, \"distance\": null, \"type\": \"restaurant\", \"rating\": null, \"confidence\": 0.6}, {\"name\": \"Ajisen Ramen\", \"lat\": 40.7141518, \"lon\": -73.9986409, \"distance\": null, \"type\": \"restaurant\", \"rating\": null, \"confidence\": 0.5}, {\"name\": \"Karakatta\", \"lat\": 40.7293315, \"lon\": -73.9987446, \"distance\": null, \"type\": \"restaurant\", \"rating\": null, \"confidence\": 0.3999999999999999}, {\"name\": \"Meijin Ramen\", \"lat\": 40.7750498, \"lon\": -73.9535584, \"distance\": null, \"type\": \"restaurant\", \"rating\": null, \"confidence\": 0.29999999999999993}, {\"name\": \"Rai Rai Ken\", \"lat\": 40.7292423, \"lon\": -73.9857986, \"distance\": null, \"type\": \"restaurant\", \"rating\": null, \"confidence\": 0.19999999999999996}, {\"name\": \"Ippudo\", \"lat\": 40.7564517, \"lon\": -73.9804099, \"distance\": null, \"type\": \"restaurant\", \"rating\": null, \"confidence\": 0.1}], \"query\": \"best ramen restaurants in Manhattan, New York\", \"total_results\": 19, \"ai_ranked\": true}\n",
      "==================================\u001b[1m Ai Message \u001b[0m==================================\n",
      "Name: location_agent\n",
      "\n",
      "# Best Ramen Restaurants in Manhattan\n",
      "\n",
      "Based on my search, here are the top ramen restaurants in Manhattan, ranked by relevance:\n",
      "\n",
      "1. **Mr. Keke** - Located in East Village (40.729°N, 73.990°W)\n",
      "   - Highly rated authentic ramen experience\n",
      "\n",
      "2. **Ippudo** - Multiple locations:\n",
      "   - East Village location (40.731°N, 73.990°W)\n",
      "   - Midtown location (40.764°N, 73.987°W)\n",
      "   - Third location (40.756°N, 73.980°W)\n",
      "   - Known for their famous Hakata-style tonkotsu ramen\n",
      "\n",
      "3. **Toribro Ramen** - Midtown (40.764°N, 73.988°W)\n",
      "   - Specializing in authentic Japanese ramen\n",
      "\n",
      "4. **Totto Ramen** - Hell's Kitchen area (40.765°N, 73.991°W)\n",
      "   - Known for their paitan (chicken-based) ramen\n",
      "\n",
      "5. **Ajisen Ramen** - Chinatown (40.714°N, 73.999°W)\n",
      "   - Popular chain offering various ramen styles\n",
      "\n",
      "6. **Karakatta** - East Village (40.729°N, 73.999°W)\n",
      "   - Known for spicy ramen options\n",
      "\n",
      "7. **Meijin Ramen** - Upper East Side (40.775°N, 73.954°W)\n",
      "   - Quality ramen in a less crowded neighborhood\n",
      "\n",
      "8. **Rai Rai Ken** - East Village (40.729°N, 73.986°W)\n",
      "   - One of the original ramen shops in Manhattan\n",
      "\n",
      "These restaurants represent some of the best ramen options across different Manhattan neighborhoods. The East Village and Midtown areas appear to have the highest concentration of top-rated ramen restaurants. Ippudo is particularly notable with three locations throughout Manhattan, suggesting its popularity among ramen enthusiasts.\n",
      "\n",
      "Would you like more specific information about any of these restaurants, such as their specialties or recommended dishes?\n"
     ]
    },
    {
     "data": {
      "text/markdown": [
       "# Best Ramen Restaurants in Manhattan\n",
       "\n",
       "Based on my search, here are the top ramen restaurants in Manhattan, ranked by relevance:\n",
       "\n",
       "1. **Mr. Keke** - Located in East Village (40.729°N, 73.990°W)\n",
       "   - Highly rated authentic ramen experience\n",
       "\n",
       "2. **Ippudo** - Multiple locations:\n",
       "   - East Village location (40.731°N, 73.990°W)\n",
       "   - Midtown location (40.764°N, 73.987°W)\n",
       "   - Third location (40.756°N, 73.980°W)\n",
       "   - Known for their famous Hakata-style tonkotsu ramen\n",
       "\n",
       "3. **Toribro Ramen** - Midtown (40.764°N, 73.988°W)\n",
       "   - Specializing in authentic Japanese ramen\n",
       "\n",
       "4. **Totto Ramen** - Hell's Kitchen area (40.765°N, 73.991°W)\n",
       "   - Known for their paitan (chicken-based) ramen\n",
       "\n",
       "5. **Ajisen Ramen** - Chinatown (40.714°N, 73.999°W)\n",
       "   - Popular chain offering various ramen styles\n",
       "\n",
       "6. **Karakatta** - East Village (40.729°N, 73.999°W)\n",
       "   - Known for spicy ramen options\n",
       "\n",
       "7. **Meijin Ramen** - Upper East Side (40.775°N, 73.954°W)\n",
       "   - Quality ramen in a less crowded neighborhood\n",
       "\n",
       "8. **Rai Rai Ken** - East Village (40.729°N, 73.986°W)\n",
       "   - One of the original ramen shops in Manhattan\n",
       "\n",
       "These restaurants represent some of the best ramen options across different Manhattan neighborhoods. The East Village and Midtown areas appear to have the highest concentration of top-rated ramen restaurants. Ippudo is particularly notable with three locations throughout Manhattan, suggesting its popularity among ramen enthusiasts.\n",
       "\n",
       "Would you like more specific information about any of these restaurants, such as their specialties or recommended dishes?"
      ],
      "text/plain": [
       "<IPython.core.display.Markdown object>"
      ]
     },
     "metadata": {},
     "output_type": "display_data"
    }
   ],
   "source": [
    "from langchain.schema import HumanMessage\n",
    "from IPython.display import Markdown\n",
    "\n",
    "# Test the agent with a simple request\n",
    "print(\"🧪 Test 1: Simple Location Search\\n\")\n",
    "\n",
    "inputs = {\n",
    "    \"messages\": [\n",
    "        HumanMessage(content=\"Find the best ramen restaurants in Manhattan\")\n",
    "    ]\n",
    "}\n",
    "\n",
    "# Stream the agent's response\n",
    "for chunk in location_agent.stream(inputs, stream_mode=\"values\"):\n",
    "    message = chunk[\"messages\"][-1]\n",
    "    if hasattr(message, 'pretty_print'):\n",
    "        message.pretty_print()\n",
    "\n",
    "# Display the final answer\n",
    "final_message = chunk[\"messages\"][-1]\n",
    "if hasattr(final_message, 'content'):\n",
    "    display(Markdown(final_message.content))"
   ]
  },
  {
   "cell_type": "markdown",
   "metadata": {},
   "source": [
    "## Conclusion & Next Steps 🎯\n",
    "\n",
    "Congratulations! You've learned how to build sophisticated location-aware agents using LangChain and Camino AI.\n",
    "\n",
    "### What You've Accomplished:\n",
    "- ✅ Set up Camino AI tools with LangChain\n",
    "- ✅ Built ReAct agents for location reasoning\n",
    "- ✅ Created agents with memory for personalization\n",
    "- ✅ Combined multiple tools for comprehensive intelligence\n",
    "\n",
    "### Key Takeaways:\n",
    "1. **Location Intelligence Matters**: Physical world understanding is crucial for many AI applications\n",
    "2. **Tool Synergy**: Combining Camino with other tools creates powerful agents\n",
    "3. **Context is King**: The more context you provide, the better the results\n",
    "4. **Memory Enhances UX**: Agents that remember preferences provide better experiences\n",
    "5. **Production Readiness**: Error handling, caching, and monitoring are essential\n",
    "\n",
    "### Next Steps:\n",
    "1. **Experiment**: Try different agent architectures and prompts\n",
    "2. **Combine Tools**: Add web search, databases, or other APIs\n",
    "3. **Build Applications**: Create domain-specific agents for your use case\n",
    "4. **Deploy**: Use these patterns in production applications\n",
    "5. **Share**: Contribute to the community with your innovations\n",
    "\n",
    "### Resources:\n",
    "- 📚 [Camino AI Documentation](https://api.getcamino.ai/docs)\n",
    "- 🔧 [LangChain Documentation](https://python.langchain.com/)\n",
    "- 🎮 [Interactive Playground](https://app.getcamino.ai/playground)\n",
    "\n",
    "### Advanced Topics to Explore:\n",
    "- **Multi-Agent Systems**: Coordinate multiple specialized location agents\n",
    "- **Streaming Responses**: Implement real-time location updates\n",
    "- **Custom Tools**: Build domain-specific location tools\n",
    "- **Fine-Tuning**: Optimize prompts for specific industries\n",
    "- **Hybrid Intelligence**: Combine with computer vision for visual location understanding\n",
    "\n",
    "---\n",
    "\n",
    "**Ready to build production location-aware AI agents?** Start with Camino AI and LangChain to give your agents the power to understand and navigate the physical world! 🚀\n",
    "\n",
    "Happy building! 🏗️"
   ]
  }
 ],
 "metadata": {
  "kernelspec": {
   "display_name": "Python 3 (ipykernel)",
   "language": "python",
   "name": "python3"
  },
  "language_info": {
   "codemirror_mode": {
    "name": "ipython",
    "version": 3
   },
   "file_extension": ".py",
   "mimetype": "text/x-python",
   "name": "python",
   "nbconvert_exporter": "python",
   "pygments_lexer": "ipython3",
   "version": "3.13.3"
  }
 },
 "nbformat": 4,
 "nbformat_minor": 4
}
