{
 "cells": [
  {
   "cell_type": "markdown",
   "id": "17fbea80",
   "metadata": {},
        "source": [
       "![](https://europe-west1-atp-views-tracker.cloudfunctions.net/working-analytics?notebook=tutorials--agent-with-brightdata--langgraph-integration)\n",
       "\n",
       "# Building an Intelligent Web Scraping Agent with LangGraph and Bright Data\n",
    "\n",
    "## Overview\n",
    "\n",
    "This comprehensive tutorial demonstrates how to construct an intelligent web scraping agent using LangGraph's ReAct framework integrated with Bright Data's native LangChain tools. The approach combines reasoning capabilities with powerful web data extraction to create a system that can autonomously search, analyze, and extract information from the web.\n",
    "\n",
    "Modern data collection workflows require more than simple scraping tools. They need intelligent agents that can understand context, make decisions about search strategies, and adapt to different types of queries. This tutorial addresses that need by building a ReAct (Reasoning and Acting) agent that combines the decision-making capabilities of large language models with the robust data collection infrastructure provided by Bright Data.\n",
    "\n",
    "## Learning Objectives\n",
    "\n",
    "By completing this tutorial, you will understand how to:\n",
    "\n",
    "- Implement LangGraph ReAct agents with Bright Data's LangChain integration\n",
    "- Configure and utilize Bright Data's SERP (Search Engine Results Page) tool for intelligent web searches\n",
    "- Design agents that can reason through complex web scraping tasks automatically\n",
    "- Handle real-time data extraction with appropriate error management\n",
    "- Construct scalable web scraping workflows for production environments\n",
    "\n",
    "## Architecture Overview\n",
    "\n",
    "```\n",
    "┌─────────────────┐    ┌──────────────────┐    ┌─────────────────┐\n",
    "│   User Query    │───▶│   LangGraph      │───▶│   Bright Data   │\n",
    "│                 │    │   ReAct Agent    │    │   SERP Tool     │\n",
    "└─────────────────┘    └──────────────────┘    └─────────────────┘\n",
    "                              │                          │\n",
    "                              ▼                          ▼\n",
    "                       ┌─────────────┐            ┌─────────────┐\n",
    "                       │   Google    │            │   Search    │\n",
    "                       │   Gemini    │            │   Results   │\n",
    "                       │    LLM      │            │   (JSON)    │\n",
    "                       └─────────────┘            └─────────────┘\n",
    "                              │                          │\n",
    "                              └────────┬─────────────────┘\n",
    "                                       ▼\n",
    "                               ┌───────────────┐\n",
    "                               │   Structured  │\n",
    "                               │   Response    │\n",
    "                               └───────────────┘\n",
    "```\n",
    "\n",
    "The system operates through a coordinated workflow where the ReAct agent receives user queries, determines the appropriate search strategy using the language model, executes searches through Bright Data's infrastructure, and synthesizes the results into structured responses."
   ]
  },
  {
   "cell_type": "markdown",
   "id": "271abc08",
   "metadata": {},
   "source": [
    "## Getting Started\n",
    "\n",
    "Follow these steps to set up your development environment:\n",
    "\n",
    "1. **Sign up** for Bright Data at [This link](https://brightdata.com/?hs_signup=1&utm_source=brand&utm_campaign=brnd-mkt_github_nirdiamant_logo) (currently offering 5k unlocker requests for free - every month!).\n",
    "    \n",
    "    _Refer to the screenshots linked below for step-by-step guidance:_\n",
    "    \n",
    "    - ![Screenshot: Signup Page](assets/Signup.png)\n",
    "2. **Copy your API key** from [your account settings](https://brightdata.com/cp/setting):\n",
    "    \n",
    "    - ![Screenshot: Settings Page](assets/Settings.png)\n",
    "3. **LLM API key** - We'll use Google's Gemini through their API. Sign up at [Google AI Studio](https://aistudio.google.com/) to get your API key.\n",
    "    \n",
    "4. **Install required dependencies** and set up your environment variables.\n",
    "    "
   ]
  },
  {
   "cell_type": "markdown",
   "id": "dd01c852",
   "metadata": {},
   "source": [
    "## Installation and Dependency Management\n",
    "\n",
    "The implementation relies on several key libraries that provide different aspects of the agent functionality. Understanding these dependencies helps in troubleshooting and extending the system later.\n",
    "\n",
    "### Core Package Installation"
   ]
  },
  {
   "cell_type": "code",
   "execution_count": null,
   "id": "a305c67c",
   "metadata": {},
   "outputs": [],
   "source": [
    "# Install required packages\n",
    "%pip install langchain-brightdata langchain-google-genai langgraph python-dotenv --quiet\n",
    "%load_ext autoreload\n",
    "%autoreload 2"
   ]
  },
  {
   "cell_type": "markdown",
   "id": "47dc85f8",
   "metadata": {},
   "source": [
    "### Environment Variable Configuration\n",
    "\n",
    "Proper API key management is crucial for both security and functionality. The following cell demonstrates how to securely store your credentials in environment variables."
   ]
  },
  {
   "cell_type": "code",
   "execution_count": null,
   "id": "ff206120",
   "metadata": {},
   "outputs": [],
   "source": [
    "# To export your API keys into a .env file, run the following cell (replace with your actual keys):\n",
    "!echo \"BRIGHT_DATA_API_TOKEN=<your-brightdata-api-key>\" >> .env\n",
    "!echo \"GOOGLE_API_KEY=<your-google-api-key>\" >> .env"
   ]
  },
  {
   "cell_type": "markdown",
   "id": "e301dd0f",
   "metadata": {},
   "source": [
    "### Library Import and Environment Validation\n",
    "\n",
    "This section imports all necessary libraries and validates that the environment is properly configured with the required API keys."
   ]
  },
  {
   "cell_type": "code",
   "execution_count": null,
   "id": "861ae7a9",
   "metadata": {},
   "outputs": [],
   "source": [
    "# Import all necessary libraries\n",
    "from langchain_brightdata import BrightDataSERP\n",
    "from langchain_google_genai import ChatGoogleGenerativeAI\n",
    "from langgraph.prebuilt import create_react_agent\n",
    "from dotenv import load_dotenv\n",
    "import os\n",
    "\n",
    "# Load environment variables from .env\n",
    "load_dotenv()\n",
    "\n",
    "# Verify environment setup\n",
    "print(\"Environment setup complete!\")\n",
    "print(f\"Bright Data API Key loaded: {'Yes' if os.getenv('BRIGHT_DATA_API_TOKEN') else 'No'}\")\n",
    "print(f\"Google API Key loaded: {'Yes' if os.getenv('GOOGLE_API_KEY') else 'No'}\")"
   ]
  },
  {
   "cell_type": "markdown",
   "id": "905f524d",
   "metadata": {},
   "source": [
    "## Core Components and Architecture\n",
    "\n",
    "Understanding the individual components and their interactions is essential for effectively implementing and customizing the web scraping agent.\n",
    "\n",
    "### LangGraph ReAct Agent Framework\n",
    "\n",
    "The ReAct (Reasoning and Acting) paradigm represents a significant advancement in agent design. Traditional approaches either focus purely on reasoning or purely on action execution. ReAct agents integrate both capabilities, allowing them to reason about problems systematically while taking concrete actions to gather information or manipulate their environment.\n",
    "\n",
    "In the context of web scraping, this integration is particularly valuable. The agent can analyze a user's query to determine what type of information is needed, formulate appropriate search strategies, execute those searches, analyze the results, and potentially refine its approach based on what it discovers. This creates a much more intelligent and adaptive scraping system compared to static, rule-based approaches.\n",
    "\n",
    "### Bright Data SERP Integration\n",
    "\n",
    "Bright Data's Search Engine Results Page (SERP) tool provides enterprise-grade web search capabilities through their global proxy network. This infrastructure offers several advantages over direct search engine APIs, including geographic diversity, rate limiting management, and consistent data formatting.\n",
    "\n",
    "The tool supports multiple search engines including Google and Bing, with configurable parameters for geographic location, language preferences, and result quantities. The built-in parsing functionality converts raw search results into structured data that can be easily processed by the language model.\n",
    "\n",
    "### Google Gemini Language Model\n",
    "\n",
    "Google's Gemini model serves as the reasoning engine for the agent. Its multimodal capabilities and strong performance on reasoning tasks make it well-suited for analyzing search results and determining appropriate next actions. The model's ability to understand context and generate coherent responses is crucial for synthesizing information from multiple sources into useful insights."
   ]
  },
  {
   "cell_type": "markdown",
   "id": "4995cc3a",
   "metadata": {},
   "source": [
    "## Implementation: Building the Web Scraping Agent\n",
    "\n",
    "The implementation process involves configuring each component and integrating them into a cohesive system. We'll build the agent step by step, explaining the rationale behind each configuration decision.\n",
    "\n",
    "### Language Model Initialization\n",
    "\n",
    "The first step involves establishing a connection to the Google Gemini API and configuring the model parameters for optimal performance in web scraping scenarios."
   ]
  },
  {
   "cell_type": "code",
   "execution_count": null,
   "id": "c01ef60f",
   "metadata": {},
   "outputs": [],
   "source": [
    "llm = ChatGoogleGenerativeAI(\n",
    "    model=\"gemini-2.0-flash\",  # Fast and capable model\n",
    "    temperature=0.1  # Low temperature for consistent, focused responses\n",
    ")\n",
    "\n",
    "print(\"Language model initialized successfully!\")"
   ]
  },
  {
   "cell_type": "markdown",
   "id": "a1c6b166",
   "metadata": {},
   "source": [
    "The configuration uses `gemini-2.0-flash` for its balance of speed and capability, particularly important for interactive agent applications. The low temperature setting (0.1) ensures consistent and focused responses, which is crucial for reliable agent behavior in production environments. Higher temperatures might introduce unnecessary variability in the agent's decision-making process."
   ]
  },
  {
   "cell_type": "markdown",
   "id": "4995cc3a",
   "metadata": {},
   "source": [
    "### Bright Data SERP Tool Configuration\n",
    "\n",
    "The SERP tool configuration determines how the agent will interact with search engines and what type of results it will receive."
   ]
  },
  {
   "cell_type": "code",
   "execution_count": null,
   "id": "45cb6f7e",
   "metadata": {},
   "outputs": [],
   "source": [
    "# Initialize the Bright Data SERP tool\n",
    "serp_tool = BrightDataSERP(\n",
    "    search_engine=\"google\",  # Use Google as the search engine\n",
    "    country=\"us\",           # Search from US perspective\n",
    "    language=\"en\",          # English language results\n",
    "    results_count=10,       # Get top 10 results\n",
    "    parse_results=True,     # Automatically parse and structure results\n",
    ")\n",
    "\n",
    "print(\"Bright Data SERP tool configured successfully!\")\n",
    "print(f\"   Search Engine: {serp_tool.search_engine}\")\n",
    "print(f\"   Country: {serp_tool.country}\")\n",
    "print(f\"   Language: {serp_tool.language}\")\n",
    "print(f\"   Results Count: {serp_tool.results_count}\")"
   ]
  },
  {
   "cell_type": "markdown",
   "id": "fd501143",
   "metadata": {},
   "source": [
    "The configuration parameters significantly impact the type and quality of search results. Google is selected as the primary search engine due to its comprehensive index and result quality. The US country setting and English language preference optimize for content relevant to English-speaking audiences, though these can be adjusted for different markets or languages.\n",
    "\n",
    "The results count of 10 provides a good balance between comprehensive coverage and processing efficiency. More results offer greater information breadth but require more processing time and API resources. The automatic parsing feature ensures that raw HTML responses are converted into structured data that the language model can easily understand and process."
   ]
  },
  {
   "cell_type": "markdown",
   "id": "893cc7b1",
   "metadata": {},
   "source": [
    "### ReAct Agent Assembly\n",
    "\n",
    "The final step in the basic implementation combines the language model and search tool into a functional ReAct agent."
   ]
  },
  {
   "cell_type": "code",
   "execution_count": null,
   "id": "dc78e013",
   "metadata": {},
   "outputs": [],
   "source": [
    "# Create the ReAct agent with the LLM and tools\n",
    "agent = create_react_agent(\n",
    "    model=llm,           # The language model we initialized\n",
    "    tools=[serp_tool],   # List of tools available to the agent\n",
    "    prompt=\"\"\"You are a web researcher agnet with access to SERP tool, you will HAVE to use the user query, if no specific, country, language, search engine or specific vertical, choose what's best fit users questions\"\"\"\n",
    ")\n",
    "\n",
    "print(\"ReAct Web Scraper Agent created successfully!\")\n",
    "print(\"Agent is ready to search and analyze web content!\")"
   ]
  },
  {
   "cell_type": "markdown",
   "id": "a2fa8cb4",
   "metadata": {},
   "source": [
    "The `create_react_agent()` function integrates the language model with the available tools, creating an agent that can autonomously decide when and how to use the search capabilities. The prompt provides guidance to the agent about its role and decision-making process, ensuring it understands when to utilize the search tool and how to adapt its strategy based on user queries."
   ]
  },
  {
   "cell_type": "markdown",
   "id": "a2fa8cb4",
   "metadata": {},
   "source": [
    "## Agent Testing and Validation\n",
    "\n",
    "Testing the agent with various query types helps validate its functionality and demonstrates its reasoning capabilities.\n",
    "\n",
    "### Basic Search Functionality Test\n",
    "\n",
    "This test demonstrates how the agent processes a straightforward information request and utilizes its search capabilities."
   ]
  },
  {
   "cell_type": "code",
   "execution_count": null,
   "id": "8e72bf86",
   "metadata": {},
   "outputs": [],
   "source": [
    "# Simple search query\n",
    "print(\"Testing Basic Search...\")\n",
    "print(\"=\"*50)\n",
    "\n",
    "user_query = \"What are the latest developments and news in AI technology in the US?\"\n",
    "\n",
    "# Stream the agent's response to see it thinking step by step\n",
    "for step in agent.stream(\n",
    "    {\"messages\": [(\"human\", user_query)]},\n",
    "    stream_mode=\"values\",\n",
    "):\n",
    "    step[\"messages\"][-1].pretty_print()"
   ]
  },
  {
   "cell_type": "markdown",
   "id": "c8109db3",
   "metadata": {},
   "source": [
    "The streaming output allows you to observe the agent's reasoning process in real-time. You'll see how the agent analyzes the query, decides to use the search tool, formulates appropriate search terms, executes the search, and synthesizes the results into a coherent response. This transparency is valuable for understanding agent behavior and debugging issues."
   ]
  },
  {
   "cell_type": "markdown",
   "id": "e9699b66",
   "metadata": {},
   "source": [
    "## Agent Behavior Analysis\n",
    "\n",
    "Understanding how the agent processes different types of queries provides insights into its decision-making process and helps optimize its performance.\n",
    "\n",
    "### Query Processing Pipeline\n",
    "\n",
    "The agent follows a systematic approach when processing user queries:\n",
    "\n",
    "**Initial Analysis Phase:** The agent examines the user's question to determine the type of information required, whether current or real-time data is necessary, and how specific or broad the search scope should be.\n",
    "\n",
    "**Tool Selection Logic:** Based on the analysis, the agent decides whether to use the search tool. This decision depends on factors such as whether the query requires current information beyond the model's training data, if the question involves specific factual claims that need verification, and how detailed the information request is.\n",
    "\n",
    "**Search Strategy Formation:** When search is determined to be necessary, the agent formulates appropriate search terms and parameters. This involves extracting key concepts from the user query, determining optimal search term combinations, and selecting appropriate search parameters.\n",
    "\n",
    "**Result Synthesis:** After receiving search results, the agent analyzes information from multiple sources, synthesizes findings into coherent insights, provides structured and relevant answers, and cites sources when appropriate.\n",
    "\n",
    "### Advanced Configuration Patterns\n",
    "\n",
    "The basic agent can be extended and customized for various specialized use cases through configuration modifications.\n",
    "\n",
    "**Multi-Language Research Configuration:**\n",
    "```python\n",
    "spanish_serp = BrightDataSERP(\n",
    "    search_engine=\"google\",\n",
    "    country=\"es\",      # Spain\n",
    "    language=\"es\",     # Spanish\n",
    "    results_count=15,\n",
    "    parse_results=True,\n",
    ")\n",
    "\n",
    "spanish_agent = create_react_agent(llm, [spanish_serp])\n",
    "```\n",
    "\n",
    "**Alternative Search Engine Integration:**\n",
    "```python\n",
    "bing_serp = BrightDataSERP(\n",
    "    search_engine=\"bing\",  # Use Bing instead of Google\n",
    "    country=\"us\",\n",
    "    language=\"en\",\n",
    "    results_count=10,\n",
    "    parse_results=True,\n",
    ")\n",
    "\n",
    "bing_agent = create_react_agent(llm, [bing_serp])\n",
    "```\n",
    "\n",
    "**High-Volume Research Configuration:**\n",
    "```python\n",
    "research_serp = BrightDataSERP(\n",
    "    search_engine=\"google\",\n",
    "    country=\"us\",\n",
    "    language=\"en\",\n",
    "    results_count=20,  # More results for comprehensive research\n",
    "    parse_results=True,\n",
    ")\n",
    "\n",
    "research_agent = create_react_agent(llm, [research_serp])\n",
    "```"
   ]
  },
  {
   "cell_type": "markdown",
   "id": "ba8bd1fa",
   "metadata": {},
   "source": [
    "## Advanced Implementation: Research Assistant\n",
    "\n",
    "Building upon the basic agent, we can create more sophisticated research assistants that handle complex, multi-faceted queries with enhanced capabilities.\n",
    "\n",
    "### Configurable Research Assistant Factory\n",
    "\n",
    "This implementation demonstrates how to create reusable agent configurations for different research scenarios."
   ]
  },
  {
   "cell_type": "code",
   "execution_count": null,
   "id": "646c7ed5",
   "metadata": {},
   "outputs": [],
   "source": [
    "def create_research_assistant(search_engine=\"google\", country=\"us\", language=\"en\"):\n",
    "    \"\"\"\n",
    "    Create a specialized research assistant agent\n",
    "    \n",
    "    Args:\n",
    "        search_engine (str): Search engine to use (\"google\" or \"bing\")\n",
    "        country (str): Country code for localized results\n",
    "        language (str): Language code for results\n",
    "    \n",
    "    Returns:\n",
    "        Agent configured for research tasks\n",
    "    \"\"\"\n",
    "    \n",
    "    # Initialize components\n",
    "    llm = ChatGoogleGenerativeAI(model=\"gemini-2.0-flash\", temperature=0.1)\n",
    "    \n",
    "    serp_tool = BrightDataSERP(\n",
    "        search_engine=search_engine,\n",
    "        country=country,\n",
    "        language=language,\n",
    "        results_count=15,  # More results for thorough research\n",
    "        parse_results=True,\n",
    "    )\n",
    "    \n",
    "    # Create agent with enhanced capabilities\n",
    "    agent = create_react_agent(llm, [serp_tool])\n",
    "    \n",
    "    print(f\"Research Assistant created!\")\n",
    "    print(f\"   Engine: {search_engine.title()}\")\n",
    "    print(f\"   Location: {country.upper()}\")\n",
    "    print(f\"   Language: {language.upper()}\")\n",
    "    \n",
    "    return agent\n",
    "\n",
    "# Create the research assistant\n",
    "research_assistant = create_research_assistant()"
   ]
  },
  {
   "cell_type": "markdown",
   "id": "6e4f42ed",
   "metadata": {},
   "source": [
    "### Comprehensive Research Query Testing\n",
    "\n",
    "The research assistant can handle complex, multi-part queries that require comprehensive information gathering and analysis."
   ]
  },
  {
   "cell_type": "code",
   "execution_count": null,
   "id": "8c39fdb6",
   "metadata": {},
   "outputs": [],
   "source": [
    "# Comprehensive research query\n",
    "research_query = \"\"\"\n",
    "Please research the renewable energy market trends for 2024-2025. \n",
    "I need information about:\n",
    "1. Market growth predictions\n",
    "2. Leading companies and their strategies  \n",
    "3. Recent technological breakthroughs\n",
    "4. Government policies affecting the sector\n",
    "\"\"\"\n",
    "\n",
    "print(\"Starting comprehensive research...\")\n",
    "print(\"=\"*60)\n",
    "\n",
    "for step in research_assistant.stream(\n",
    "    {\"messages\": [(\"human\", research_query)]},\n",
    "    stream_mode=\"values\",\n",
    "):\n",
    "    step[\"messages\"][-1].pretty_print()"
   ]
  },
  {
   "cell_type": "markdown",
   "id": "6393a8eb",
   "metadata": {},
   "source": [
    "## Conclusion and Future Directions\n",
    "\n",
    "This tutorial has demonstrated the construction of an intelligent web scraping agent that combines the reasoning capabilities of large language models with robust web data collection infrastructure. The resulting system can autonomously search the web, process real-time information, conduct comprehensive research across multiple topics, handle complex queries with multi-step reasoning, and provide structured, actionable insights from web data.\n",
    "\n",
    "### Key Accomplishments\n",
    "\n",
    "The implementation covers essential aspects of modern agent development including complete web scraping environment setup, intelligent ReAct agent creation, integration with Bright Data's powerful search capabilities, error handling and optimization strategies, and development of specialized research assistants.\n",
    "\n",
    "### Extension Opportunities\n",
    "\n",
    "The foundational system presented here can be extended in several directions to create more sophisticated and specialized applications.\n",
    "\n",
    "**Tool Integration Expansion:** Additional Bright Data tools can be integrated to expand the agent's capabilities beyond search, including web scraping, data parsing, and content extraction tools.\n",
    "\n",
    "**User Interface Development:** A web-based interface can be built to make the agent accessible to non-technical users, with features for query history, result export, and research project management.\n",
    "\n",
    "**Data Persistence Systems:** Implementing data storage solutions allows for research result archiving, trend analysis over time, and building institutional knowledge bases.\n",
    "\n",
    "**Automation and Scheduling:** The agent can be enhanced with scheduling capabilities for automated research tasks, monitoring specific topics, and generating regular reports.\n",
    "\n",
    "**Domain Specialization:** Specialized agents can be developed for specific industries or use cases, with customized prompts, specialized tools, and domain-specific knowledge integration.\n",
    "\n",
    "### Production Considerations\n",
    "\n",
    "When deploying agents in production environments, several additional considerations become important including rate limiting and API usage management, error handling and recovery mechanisms, result caching and optimization, security and access control, and monitoring and logging systems.\n",
    "\n",
    "### Application Domains\n",
    "\n",
    "The techniques demonstrated in this tutorial are applicable to a wide range of real-world scenarios including competitive intelligence and market monitoring, academic research and literature discovery, content curation and trend analysis, price monitoring and market research, and news aggregation and analysis.\n",
    "\n",
    "The combination of intelligent reasoning with robust web data collection creates powerful possibilities for automated information gathering and analysis. As these technologies continue to evolve, the potential applications will expand, making intelligent web scraping agents an increasingly valuable tool for organizations and researchers across various domains."
   ]
  }
 ],
 "metadata": {
  "kernelspec": {
   "display_name": "agents-towards-production",
   "language": "python",
   "name": "python3"
  },
  "language_info": {
   "codemirror_mode": {
    "name": "ipython",
    "version": 3
   },
   "file_extension": ".py",
   "mimetype": "text/x-python",
   "name": "python",
   "nbconvert_exporter": "python",
   "version": "3.11.12"
  }
 },
 "nbformat": 4,
 "nbformat_minor": 5
}
